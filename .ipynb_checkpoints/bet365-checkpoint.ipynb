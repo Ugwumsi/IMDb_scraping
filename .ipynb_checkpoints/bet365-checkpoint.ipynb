{
 "cells": [
  {
   "cell_type": "code",
   "execution_count": 1,
   "id": "9145bf85",
   "metadata": {},
   "outputs": [],
   "source": [
    "import os\n",
    "import csv\n",
    "import time\n",
    "import requests\n",
    "import undetected_chromedriver as uc\n",
    "import pandas as pd\n",
    "from selenium import webdriver\n",
    "from selenium.webdriver.chrome.service import Service\n",
    "from selenium.webdriver.chrome.options import Options\n",
    "from selenium.webdriver.common.by import By\n",
    "from selenium.webdriver.common.action_chains import ActionChains\n",
    "from selenium.common.exceptions import NoSuchElementException\n",
    "from selenium.common.exceptions import StaleElementReferenceException\n",
    "from selenium.common.exceptions import TimeoutException\n",
    "from selenium.webdriver.support.ui import WebDriverWait\n",
    "from selenium.webdriver.support import expected_conditions as EC\n",
    "from webdriver_manager.chrome import ChromeDriverManager"
   ]
  },
  {
   "cell_type": "markdown",
   "id": "f662dfad",
   "metadata": {},
   "source": [
    "Create an Instance of the Chrome option, pass argument to make it headless"
   ]
  },
  {
   "cell_type": "code",
   "execution_count": 2,
   "id": "e56dc3cf",
   "metadata": {},
   "outputs": [],
   "source": [
    "#Comment out the option to make the browser headless\n",
    "\n",
    "# chrome_options = Options()\n",
    "# chrome_options.add_argument('--headless')"
   ]
  },
  {
   "cell_type": "markdown",
   "id": "e4ca52dd",
   "metadata": {},
   "source": [
    "Initialize the chrome driver (browser) and pass in the 'Headless' option to make it headless"
   ]
  },
  {
   "cell_type": "code",
   "execution_count": 3,
   "id": "70a78f9b",
   "metadata": {},
   "outputs": [],
   "source": [
    "# my_driver = webdriver.Chrome(chrome_options=chrome_options,service=Service(ChromeDriverManager().install()))"
   ]
  },
  {
   "cell_type": "markdown",
   "id": "1b33ccee",
   "metadata": {},
   "source": [
    "GET Request to some API that loaded the In-Play page of Bet365"
   ]
  },
  {
   "cell_type": "code",
   "execution_count": 4,
   "id": "1bbb7811",
   "metadata": {},
   "outputs": [],
   "source": [
    "# url = 'https://www.bet365.com/pullpodapi/getinplaypods?lid=1&zid=3&pd=%23COL1%23PD%23IP%23&cid=151&cstid=1&cgid=1&ctid=151'\n",
    "#my_driver.get(url)"
   ]
  },
  {
   "cell_type": "markdown",
   "id": "dde1345b",
   "metadata": {},
   "source": [
    "Initializing Undetected Chrome Driver, and going to the Bet 365 website"
   ]
  },
  {
   "cell_type": "code",
   "execution_count": 4,
   "id": "61d798a1",
   "metadata": {},
   "outputs": [],
   "source": [
    "new_driver = uc.Chrome()\n",
    "new_driver.get('https://www.bet365.com/#/IP/B13')\n",
    "\n",
    "#Initialize Action Chain to imitate mouse cursor.\n",
    "#mouse = ActionChains(new_driver)"
   ]
  },
  {
   "cell_type": "code",
   "execution_count": 5,
   "id": "72203b11",
   "metadata": {},
   "outputs": [
    {
     "data": {
      "text/plain": [
       "<selenium.webdriver.remote.webelement.WebElement (session=\"c86a62a41ffc2905170361c3525234be\", element=\"e2613728-34ba-40fc-afcb-dd59db62e5a3\")>"
      ]
     },
     "execution_count": 5,
     "metadata": {},
     "output_type": "execute_result"
    }
   ],
   "source": [
    "new_driver.find_element(By.CSS_SELECTOR, 'div.iip-IntroductoryPopup_Cross').click()\n",
    "\n",
    "new_driver.find_element(By.CSS_SELECTOR, 'div.ovm-Fixture_Container')"
   ]
  },
  {
   "cell_type": "code",
   "execution_count": 14,
   "id": "709de796",
   "metadata": {},
   "outputs": [
    {
     "data": {
      "text/plain": [
       "'Soccer'"
      ]
     },
     "execution_count": 14,
     "metadata": {},
     "output_type": "execute_result"
    }
   ],
   "source": [
    "# new_driver.find_element(By.CSS_SELECTOR, 'div.ovm-FixtureDetailsTwoWay').click()\n",
    "\n",
    "# new_driver.find_element(By.CSS_SELECTOR, 'div.ovm-ClassificationBarButton').text\n",
    "#This gets the name of every sport on the Nav bar\n",
    "new_driver.find_element(By.CSS_SELECTOR, 'div.ovm-ClassificationBarButton_Text').get_attribute(\"innerHTML\")"
   ]
  },
  {
   "cell_type": "markdown",
   "id": "765f53bf",
   "metadata": {},
   "source": [
    "Get the Url of all the items in the Navigation Bar. \n",
    "\n",
    "Execution: Get all the elements, create a for-loop that will loop through th elist of elements, clock on them, get the 'current_url' and aappend to an empty list I already Initialized.\n",
    "\n",
    "\n",
    "Get all the page URLs from the soccer games."
   ]
  },
  {
   "cell_type": "code",
   "execution_count": null,
   "id": "4a13cf0a",
   "metadata": {
    "scrolled": true
   },
   "outputs": [],
   "source": [
    "# #get the list of all 15 sports elements with the class name 'ovm-ClassififcationBarButton'\n",
    "# sports_activities = new_driver.find_elements(By.CSS_SELECTOR, 'div.ovm-ClassificationBarButton_Text')\n",
    "\n",
    "#two_way = ['Soccer','Basketball','Cricket','Floorball','Futsal','Handball','Hockey','Pool','Water Polo','Speedway']\n",
    "#with_indicators = ['Volleyball','Tennis','Badminton']\n",
    "#e_sports = ['Esports']\n",
    "#golf = ['Golf']\n",
    "#with_indicators_and_clock = ['Snooker']\n",
    "#upon_clicking = ['Greyhounds','Horse Racing','Water Polo']\n",
    "\n",
    "#urls = []\n",
    "\n",
    "_esports = 'Esports'\n",
    "_golf = 'Golf'\n",
    "_snooker = 'WithIndicatorsAndClock'\n",
    "_two_way = 'TwoWay'\n",
    "_with_indicators = 'WithIndicators'\n",
    "\n",
    "the_loc = 'div.ovm-FixtureDetails{}'\n",
    "\n",
    "#From the list of Sports in the In-Play Nav bar,click on each and check what sport we are currently viewing and store the fixtures/events\n",
    "#in a list named 'inplay_events' \n",
    "for i in sports_activities:\n",
    "    \n",
    "    #Click on the sport activity\n",
    "    i.click()\n",
    "    \n",
    "    if i.get_attribute('innerHTML') in two_way:#Checks if the name of the sport is in the list that has 'TwoWay' in their Selector\n",
    "        the_events = new_driver.find_elements(By.CSS_SELCTOR, the_loc.format(_two_way))#Gets all the fixtures for the sports\n",
    "        for j in the_events:\n",
    "            j.click()#Click on each event from the list above\n",
    "            the_url = new_driver.current_url#get the url of the current page\n",
    "            urls.append(the_url)#append the URL to the list 'urls' initialized above\n",
    "        #inplay_events.append(the_events)#append the results above to the list of events to be clicked and scraped\n",
    "    elif i.get_attribute('innerHTML') in with_indicators:#Checks if the name of the sport is in the list that has 'WithIndicators' in their Selector\n",
    "        the_events = new_driver.find_elements(By.CSS_SELECTOR, the_loc.format(_with_indicators))#Gets all the fixtures for the sports\n",
    "        for j in the_events:\n",
    "            j.click()#Click on each event from the list above\n",
    "            the_url = new_driver.current_url#get the url of the current page\n",
    "            urls.append(the_url)#append the URL to the list 'urls' initialized above\n",
    "        #inplay_events.append(the_events)#append the results above to the list of events to be clicked and scraped\n",
    "    elif i.get_attribute('innerHTML') in e_sports:#Checks if the name of the sport is in the list that has 'Esports' in their Selector\n",
    "        the_events = new_driver.find_elements(By.CSS_SELECTOR, the_loc.format(e_sports))#Gets all the fixtures for the sports\n",
    "        for j in the_events:\n",
    "            j.click()#Click on each event from the list above\n",
    "            the_url = new_driver.current_url#get the url of the current page\n",
    "            urls.append(the_url)#append the URL to the list 'urls' initialized above\n",
    "        #inplay_events.append(the_events)#append the results above to the list of events to be clicked and scraped\n",
    "    elif i.get_attribute('innerHTML') in golf:#Checks if the name of the sport is in the list that has 'Golf' in their Selector\n",
    "        the_events = new_driver.find_elements(By.CSS_SELECTOR, the_loc.format(golf))#Gets all the fixtures for the sports\n",
    "        for j in the_events:\n",
    "            j.click()#Click on each event from the list above\n",
    "            the_url = new_driver.current_url#get the url of the current page\n",
    "            urls.append(the_url)#append the URL to the list 'urls' initialized above\n",
    "    elif i.get_attribute('innerHTML') in with_indicators_and_clock:#Checks if the name of the sport is in the list that has 'WithIndicatorsAndClock' in their Selector\n",
    "        the_events = new_driver.find_elements(By.CSS_SELECTOR, the_loc.format(golf))#Gets all the fixtures for the sports\n",
    "        for j in the_events:\n",
    "            j.click()#Click on each event from the list above\n",
    "            the_url = new_driver.current_url#get the url of the current page\n",
    "            urls.append(the_url)#append the URL to the list 'urls' initialized above\n",
    "    else:\n",
    "        the_url = new_driver.current_url#get the url of the current page\n",
    "        urls.append(the_url)#append the URL to the list 'urls' initialized above\n",
    "         \n",
    "\n",
    "# #get the list of the last 3 activities \n",
    "# other_activities = new_driver.find_elements(By.CSS_SELECTOR, 'div.ovm-PseudoClassificationBarButton')\n",
    "\n",
    "# #empty list that will contain url of each sport\n",
    "# activity_url = []\n",
    "\n",
    "# #empty list that will contain url of each event in each Sport/activity\n",
    "# event_url = []\n",
    "\n",
    "# #for-loop that will click on all the events in the \n",
    "# #create function that will loop through \n",
    "# for i in sports_activities:\n",
    "#     i.click()\n",
    "#     activity_url.append(new_driver.current_url)\n",
    "#     new_driver.get('https://www.bet365.com/#/IP/B13')\n",
    "#     new_driver.find_element(By.CSS_SELECTOR, 'div.iip-IntroductoryPopup_Cross').click()\n",
    "    \n",
    "# for j in activity_url:\n",
    "    \n",
    "    \n",
    "# #Check if the CSS_SELECTOR for the events are the same for different sports in the navigation bar, and if they are, \n",
    "# #we can create a function to loop through and gets all the events (irrespective of the sport or activity), \n",
    "\n",
    "#get the list of all the fixture elements\n",
    "games = new_driver.find_elements(By.CSS_SELECTOR, 'div.ovm-FixtureDetailsTwoWay_TeamsAndInfoWrapper')\n",
    "\n",
    "#empty list where all the page urls for each game will be stored.\n",
    "fixtures_ids = []\n",
    "\n",
    "for i in games:\n",
    "    i.click() #click on each of the fistures element.\n",
    "    fixtures_ids.append(new_driver.current_url) #get the url/id of the resulting page and append to list above.\n",
    "    new_driver.get('https://www.bet365.com/#/IP/B13') #go back to the 'In-Play' page to be able to click on the next fixture in the next iteration of the for-loop.\n",
    "    new_driver.find_element(By.CSS_SELECTOR, 'div.iip-IntroductoryPopup_Cross').click() #close the popup that shows up when the 'In-Play' page loads.\n",
    "    \n",
    "#At the end of this,we should have the URLs/IDs to all the In-Play fixtures in the soccer category.\n",
    "#We can now visit these links and scrape data from there."
   ]
  },
  {
   "cell_type": "markdown",
   "id": "01686f33",
   "metadata": {},
   "source": [
    "Get the URLs/IDs to all the fixtures in the tennis category."
   ]
  },
  {
   "cell_type": "code",
   "execution_count": null,
   "id": "811cc374",
   "metadata": {},
   "outputs": [],
   "source": [
    "#get the list of all the fixture elements\n",
    "tennis_gms = new_driver.find_elements(By.CSS_SELECTOR, 'div.ovm-FixtureDetailsWithIndicators_Team')\n",
    "\n",
    "#empty list where all the page urls for the games will be stored.\n",
    "ten_fix_ids = []\n",
    "\n",
    "for j in tennis_gms:\n",
    "    j.click() #click on each of the fixtures element.\n",
    "    ten_fix_ids.append(new_driver.current_url) #get the url/id of the resulting page and append to list above.\n",
    "    new_driver.get('https://www.bet365.com/#/IP/B13') #go back to the 'In-Play' page to be able to click on the next fixture in the next iteration of the for-loop.\n",
    "    new_driver.find_element(By.CSS_SELECTOR, 'div.iip-IntroductoryPopup_Cross').click() #close the popup that shows up when the 'In-Play' page loads.\n",
    "    \n",
    "#At the end of this,we should have the URLs/IDs to all the In-Play fixtures in the Tennis category.\n",
    "#We can now visit these links and scrape data from there.\n",
    "\n",
    "\n",
    "\n",
    "#get the list of all the fixture elements\n",
    "badmtn_gms = new_driver.find_elements(By.CSS_SELECTOR, 'div.ovm-FixtureDetailsWithIndicators_TeamsWrapper')\n",
    "\n",
    "#empty list where all the page urls for the games will be stored.\n",
    "bdm_fix_ids = []\n",
    "\n",
    "for k in badmtn_gms:\n",
    "    k.click() #click on each of the fixtures element.\n",
    "    bdm_fix_ids.append(new_driver.current_url) #get the url/id of the resulting page and append to list above.\n",
    "    new_driver.get('https://www.bet365.com/#/IP/B13') #go back to the 'In-Play' page to be able to click on the next fixture in the next iteration of the for-loop.\n",
    "    new_driver.find_element(By.CSS_SELECTOR, 'div.iip-IntroductoryPopup_Cross').click() #close the popup that shows up when the 'In-Play' page loads.\n",
    "    \n",
    "#At the end of this,we should have the URLs/IDs to all the In-Play fixtures in the Badminton category.\n",
    "#We can now visit these links and scrape data from there.\n",
    "\n",
    "\n",
    "\n",
    "\n",
    "#get the list of all the fixture elements\n",
    "bball_gms = new_driver.find_elements(By.CSS_SELECTOR, 'div.ovm-FixtureDetailsTwoWay_TeamsWrapper')\n",
    "\n",
    "#empty list where all the page urls for the games will be stored.\n",
    "bball_fix_ids = []\n",
    "\n",
    "for l in bball_gms:\n",
    "    l.click() #click on each of the fixtures element.\n",
    "    bball_fix_ids.append(new_driver.current_url) #get the url/id of the resulting page and append to list above.\n",
    "    new_driver.get('https://www.bet365.com/#/IP/B13') #go back to the 'In-Play' page to be able to click on the next fixture in the next iteration of the for-loop.\n",
    "    new_driver.find_element(By.CSS_SELECTOR, 'div.iip-IntroductoryPopup_Cross').click() #close the popup that shows up when the 'In-Play' page loads.\n",
    "    \n",
    "#At the end of this,we should have the URLs/IDs to all the In-Play fixtures in the Basketball category.\n",
    "#We can now visit these links and scrape data from there.\n",
    "\n",
    "\n",
    "\n",
    "\n",
    "#get the list of all the fixture elements\n",
    "cricket_gms = new_driver.find_elements(By.CSS_SELECTOR, 'div.ovm-FixtureDetailsTwoWay_TeamsAndInfoWrapper')\n",
    "\n",
    "#empty list where all the page urls for the games will be stored.\n",
    "cricket_fix_ids = []\n",
    "\n",
    "for a in bball_gms:\n",
    "    a.click() #click on each of the fixtures element.\n",
    "    cricket_fix_ids.append(new_driver.current_url) #get the url/id of the resulting page and append to list above.\n",
    "    new_driver.get('https://www.bet365.com/#/IP/B13') #go back to the 'In-Play' page to be able to click on the next fixture in the next iteration of the for-loop.\n",
    "    new_driver.find_element(By.CSS_SELECTOR, 'div.iip-IntroductoryPopup_Cross').click() #close the popup that shows up when the 'In-Play' page loads.\n",
    "    \n",
    "#At the end of this,we should have the URLs/IDs to all the In-Play fixtures in the Cricket category.\n",
    "#We can now visit these links and scrape data from there.\n",
    "\n",
    "\n",
    "\n",
    "\n",
    "#get the list of all the fixture elements\n",
    "cricket_gms = new_driver.find_elements(By.CSS_SELECTOR, 'div.ovm-FixtureDetailsTwoWay_TeamsAndInfoWrapper')\n",
    "\n",
    "#empty list where all the page urls for the games will be stored.\n",
    "cricket_fix_ids = []\n",
    "\n",
    "for a in bball_gms:\n",
    "    a.click() #click on each of the fixtures element.\n",
    "    cricket_fix_ids.append(new_driver.current_url) #get the url/id of the resulting page and append to list above.\n",
    "    new_driver.get('https://www.bet365.com/#/IP/B13') #go back to the 'In-Play' page to be able to click on the next fixture in the next iteration of the for-loop.\n",
    "    new_driver.find_element(By.CSS_SELECTOR, 'div.iip-IntroductoryPopup_Cross').click() #close the popup that shows up when the 'In-Play' page loads.\n",
    "    \n",
    "#At the end of this,we should have the URLs/IDs to all the In-Play fixtures in the Cricket category.\n",
    "#We can now visit these links and scrape data from there."
   ]
  },
  {
   "cell_type": "markdown",
   "id": "69d5d81a",
   "metadata": {},
   "source": [
    "This like of code gets all 15 sports available on the navigation bar of the 'In-Play' page"
   ]
  },
  {
   "cell_type": "code",
   "execution_count": 5,
   "id": "9a021fec",
   "metadata": {},
   "outputs": [
    {
     "data": {
      "text/plain": [
       "[<selenium.webdriver.remote.webelement.WebElement (session=\"a1fa277cbe3c065edd5e6bbd2de2b562\", element=\"c722304c-50c9-4081-94c2-854901c6c33d\")>,\n",
       " <selenium.webdriver.remote.webelement.WebElement (session=\"a1fa277cbe3c065edd5e6bbd2de2b562\", element=\"8b2462df-9164-474b-af7d-bb1061930e72\")>,\n",
       " <selenium.webdriver.remote.webelement.WebElement (session=\"a1fa277cbe3c065edd5e6bbd2de2b562\", element=\"2d8733c5-2ce6-4ceb-932a-33807923cc8c\")>,\n",
       " <selenium.webdriver.remote.webelement.WebElement (session=\"a1fa277cbe3c065edd5e6bbd2de2b562\", element=\"855fd455-eaca-403a-83d3-3f654158bb8f\")>,\n",
       " <selenium.webdriver.remote.webelement.WebElement (session=\"a1fa277cbe3c065edd5e6bbd2de2b562\", element=\"f056fdf8-d483-4b7e-978f-1c74ceaa0913\")>,\n",
       " <selenium.webdriver.remote.webelement.WebElement (session=\"a1fa277cbe3c065edd5e6bbd2de2b562\", element=\"7eb306cf-d275-44ab-ad7c-721ddaeb3081\")>,\n",
       " <selenium.webdriver.remote.webelement.WebElement (session=\"a1fa277cbe3c065edd5e6bbd2de2b562\", element=\"5a73a784-8fcc-4d02-9297-a6ff109da072\")>,\n",
       " <selenium.webdriver.remote.webelement.WebElement (session=\"a1fa277cbe3c065edd5e6bbd2de2b562\", element=\"26f5d991-ccff-4727-b51a-dc6a5a5fffb2\")>,\n",
       " <selenium.webdriver.remote.webelement.WebElement (session=\"a1fa277cbe3c065edd5e6bbd2de2b562\", element=\"b8a78363-5782-49a2-b128-17f45bb429e1\")>,\n",
       " <selenium.webdriver.remote.webelement.WebElement (session=\"a1fa277cbe3c065edd5e6bbd2de2b562\", element=\"73a32e8a-d0b3-42b3-a3f5-9279dc321710\")>,\n",
       " <selenium.webdriver.remote.webelement.WebElement (session=\"a1fa277cbe3c065edd5e6bbd2de2b562\", element=\"7c69c612-b4cb-4203-90f5-85f0c329dfcc\")>,\n",
       " <selenium.webdriver.remote.webelement.WebElement (session=\"a1fa277cbe3c065edd5e6bbd2de2b562\", element=\"311eea26-ded4-425e-811e-640a2deb1866\")>,\n",
       " <selenium.webdriver.remote.webelement.WebElement (session=\"a1fa277cbe3c065edd5e6bbd2de2b562\", element=\"a5e181ae-63f0-432d-865e-439df08e13ed\")>,\n",
       " <selenium.webdriver.remote.webelement.WebElement (session=\"a1fa277cbe3c065edd5e6bbd2de2b562\", element=\"8527c624-9fae-4726-8632-5764b9f66389\")>,\n",
       " <selenium.webdriver.remote.webelement.WebElement (session=\"a1fa277cbe3c065edd5e6bbd2de2b562\", element=\"faa0e7eb-c731-426b-8774-f0c8db085877\")>]"
      ]
     },
     "execution_count": 5,
     "metadata": {},
     "output_type": "execute_result"
    }
   ],
   "source": [
    "new_driver.find_elements(By.CSS_SELECTOR, 'div.ovm-ClassificationBarButton')\n",
    "\n",
    "#r_button = 'window.getComputedStyle(document.querySelector(\"div.ovm-ClassificationBar.ovm-ClassificationBar-13.ovm-ClassificationBar-mouse\"),\":before\")'"
   ]
  },
  {
   "cell_type": "markdown",
   "id": "8899c07e",
   "metadata": {},
   "source": [
    "This line of code gets the 'Streaming', 'Schedule' and 'Casino' elements on the Nav Bar"
   ]
  },
  {
   "cell_type": "code",
   "execution_count": 6,
   "id": "faa61ce5",
   "metadata": {},
   "outputs": [
    {
     "data": {
      "text/plain": [
       "[<selenium.webdriver.remote.webelement.WebElement (session=\"a1fa277cbe3c065edd5e6bbd2de2b562\", element=\"a963fabb-92bf-40b5-8e14-de53b7369242\")>,\n",
       " <selenium.webdriver.remote.webelement.WebElement (session=\"a1fa277cbe3c065edd5e6bbd2de2b562\", element=\"76004860-6e35-4779-8638-f682e9b1b953\")>,\n",
       " <selenium.webdriver.remote.webelement.WebElement (session=\"a1fa277cbe3c065edd5e6bbd2de2b562\", element=\"a535c279-d831-458e-a414-78ed2b41c2e9\")>,\n",
       " <selenium.webdriver.remote.webelement.WebElement (session=\"a1fa277cbe3c065edd5e6bbd2de2b562\", element=\"24b23fc5-0b59-40b6-a7d0-52f763d94f77\")>]"
      ]
     },
     "execution_count": 6,
     "metadata": {},
     "output_type": "execute_result"
    }
   ],
   "source": [
    "new_driver.find_elements(By.CSS_SELECTOR, 'div.ovm-PseudoClassificationBarButton')"
   ]
  },
  {
   "cell_type": "code",
   "execution_count": 36,
   "id": "8c9b4230",
   "metadata": {},
   "outputs": [],
   "source": [
    "#right_button = new_driver.find_element(By.CSS_SELECTOR, 'ovm-ClassificationBar_RightButton')\n",
    "mouse.move_to_element(tennis_element).perform()\n",
    "\n",
    "#mouse.move_to_element(new_driver.find_element(By.XPATH, '//div[text()]')).click().perform()\n"
   ]
  },
  {
   "cell_type": "markdown",
   "id": "a25fc889",
   "metadata": {},
   "source": [
    "This clicks on the cancel button for the dialog box that shows up after selecting the 'In-Play' button"
   ]
  },
  {
   "cell_type": "code",
   "execution_count": 3,
   "id": "d172f12c",
   "metadata": {},
   "outputs": [],
   "source": [
    "new_driver.find_element(By.CSS_SELECTOR, 'div.iip-IntroductoryPopup_Cross').click()"
   ]
  },
  {
   "cell_type": "markdown",
   "id": "3ba93823",
   "metadata": {},
   "source": [
    "After closing the dialog box/pop-up bar, an accept cookie prompt shows up at the bottom of the screen.\n",
    "\n",
    "Here, we click to accept cookies."
   ]
  },
  {
   "cell_type": "code",
   "execution_count": null,
   "id": "25c0edb9",
   "metadata": {},
   "outputs": [],
   "source": [
    "# new_driver.find_element(By.CSS_SELECTOR, 'ccm-CookieConsentPopup_Accept').click()"
   ]
  },
  {
   "cell_type": "markdown",
   "id": "e977d512",
   "metadata": {},
   "source": [
    "Gets the URL of the page we are on."
   ]
  },
  {
   "cell_type": "code",
   "execution_count": null,
   "id": "69d27521",
   "metadata": {},
   "outputs": [],
   "source": [
    "# new_driver.current_url"
   ]
  },
  {
   "cell_type": "markdown",
   "id": "9be7a23c",
   "metadata": {},
   "source": [
    "Code snippet that gets the clickable element on each game from the Soccer In-Play tab.\n",
    "\n",
    "We can click on this element to go into each In-Play fixture and see all the various odds that are available for possible scraping.\n",
    "\n",
    "Direction for Use: Write a for loop that loops thtough all elements with this ID on the page, when the opage opens up, get the current URL using 'current_url'."
   ]
  },
  {
   "cell_type": "code",
   "execution_count": null,
   "id": "bdd50c23",
   "metadata": {},
   "outputs": [],
   "source": [
    "# new_driver.find_element(By.CSS_SELECTOR, 'div.ovm-FixtureDetailsTwoWay.ovm-FixtureDetailsTwoWay-1').click()"
   ]
  },
  {
   "cell_type": "markdown",
   "id": "2fc8ce95",
   "metadata": {},
   "source": [
    "A for-loop that will click onn every In-Play fixture and get the URL of the page.  \n",
    "\n",
    "Will this work for events (games) In other sports or nav bar icons??"
   ]
  },
  {
   "cell_type": "code",
   "execution_count": null,
   "id": "0cbb670a",
   "metadata": {},
   "outputs": [],
   "source": [
    "# clickable_elements = new_driver.find_elements(By.CSS_SELECTOR, 'div.ovm-FixtureDetailsTwoWay.ovm-FixtureDetailsTwoWay-1')\n",
    "\n",
    "# for i in clickable_elements:\n",
    "#     i.click()\n",
    "#     print(new_driver.current_url)\n",
    "    \n"
   ]
  },
  {
   "cell_type": "markdown",
   "id": "1d35a122",
   "metadata": {},
   "source": [
    "Request that should call the API for the In-Play page of the bet365 website"
   ]
  },
  {
   "cell_type": "code",
   "execution_count": null,
   "id": "e7708d59",
   "metadata": {},
   "outputs": [],
   "source": [
    "# requests.get('https://www.bet365.com/pullpodapi/getinplaypods?lid=1&zid=3&pd=%23COL1%23PD%23IP%23&cid=151&cstid=1&cgid=1&ctid=151').json()"
   ]
  },
  {
   "cell_type": "markdown",
   "id": "426faa29",
   "metadata": {},
   "source": [
    "The code snippet below returns all visible bar_buttons (buttons on the Navigational Bar), to get the rest of the buttons, we will need to click the arrow to show the rest of the buttons before we can access them using the code.\n",
    "\n",
    "We need all the Buttons on the navigation bar so we can access all the In-Play events across all sporting activities covered. I f we successfully do this, we can click on all events and get the url of the pages of all the events using '.current_url' method.\n",
    "\n",
    "\n",
    "This will be the end of the first half of the project. At whichpoint we would have the urls to all the In_play events on the website. We can then use the Urls to access all the events and acrape all the data (there are)."
   ]
  },
  {
   "cell_type": "code",
   "execution_count": 19,
   "id": "e9ef072f",
   "metadata": {
    "scrolled": true
   },
   "outputs": [
    {
     "ename": "NoSuchElementException",
     "evalue": "Message: no such element: Unable to locate element: {\"method\":\"css selector\",\"selector\":\"div.ClassificationBar_RightButton\"}\n  (Session info: chrome=106.0.5249.103)\nStacktrace:\n0   ba67212ef882649f_chromedriver       0x000000010d9ed598 ba67212ef882649f_chromedriver + 4404632\n1   ba67212ef882649f_chromedriver       0x000000010d974fa3 ba67212ef882649f_chromedriver + 3911587\n2   ba67212ef882649f_chromedriver       0x000000010d621e6a ba67212ef882649f_chromedriver + 425578\n3   ba67212ef882649f_chromedriver       0x000000010d659c91 ba67212ef882649f_chromedriver + 654481\n4   ba67212ef882649f_chromedriver       0x000000010d659e91 ba67212ef882649f_chromedriver + 654993\n5   ba67212ef882649f_chromedriver       0x000000010d691274 ba67212ef882649f_chromedriver + 881268\n6   ba67212ef882649f_chromedriver       0x000000010d677dcd ba67212ef882649f_chromedriver + 777677\n7   ba67212ef882649f_chromedriver       0x000000010d68ef79 ba67212ef882649f_chromedriver + 872313\n8   ba67212ef882649f_chromedriver       0x000000010d677bd3 ba67212ef882649f_chromedriver + 777171\n9   ba67212ef882649f_chromedriver       0x000000010d64cced ba67212ef882649f_chromedriver + 601325\n10  ba67212ef882649f_chromedriver       0x000000010d64de51 ba67212ef882649f_chromedriver + 605777\n11  ba67212ef882649f_chromedriver       0x000000010d9bd0ce ba67212ef882649f_chromedriver + 4206798\n12  ba67212ef882649f_chromedriver       0x000000010d9c1797 ba67212ef882649f_chromedriver + 4224919\n13  ba67212ef882649f_chromedriver       0x000000010d9c8a4f ba67212ef882649f_chromedriver + 4254287\n14  ba67212ef882649f_chromedriver       0x000000010d9c24da ba67212ef882649f_chromedriver + 4228314\n15  ba67212ef882649f_chromedriver       0x000000010d99b23f ba67212ef882649f_chromedriver + 4067903\n16  ba67212ef882649f_chromedriver       0x000000010d9df6a8 ba67212ef882649f_chromedriver + 4347560\n17  ba67212ef882649f_chromedriver       0x000000010d9df816 ba67212ef882649f_chromedriver + 4347926\n18  ba67212ef882649f_chromedriver       0x000000010d9f48fe ba67212ef882649f_chromedriver + 4434174\n19  libsystem_pthread.dylib             0x00007ff81dc5e4e1 _pthread_start + 125\n20  libsystem_pthread.dylib             0x00007ff81dc59f6b thread_start + 15\n",
     "output_type": "error",
     "traceback": [
      "\u001b[0;31m---------------------------------------------------------------------------\u001b[0m",
      "\u001b[0;31mNoSuchElementException\u001b[0m                    Traceback (most recent call last)",
      "Cell \u001b[0;32mIn [19], line 2\u001b[0m\n\u001b[1;32m      1\u001b[0m first_bar_buttons \u001b[38;5;241m=\u001b[39m new_driver\u001b[38;5;241m.\u001b[39mfind_elements(By\u001b[38;5;241m.\u001b[39mCSS_SELECTOR, \u001b[38;5;124m'\u001b[39m\u001b[38;5;124mdiv.ovm-ClassificationBarButton_Text\u001b[39m\u001b[38;5;124m'\u001b[39m)\n\u001b[0;32m----> 2\u001b[0m right_button \u001b[38;5;241m=\u001b[39m \u001b[43mnew_driver\u001b[49m\u001b[38;5;241;43m.\u001b[39;49m\u001b[43mfind_element\u001b[49m\u001b[43m(\u001b[49m\u001b[43mBy\u001b[49m\u001b[38;5;241;43m.\u001b[39;49m\u001b[43mCSS_SELECTOR\u001b[49m\u001b[43m,\u001b[49m\u001b[43m \u001b[49m\u001b[38;5;124;43m'\u001b[39;49m\u001b[38;5;124;43mdiv.ClassificationBar_RightButton\u001b[39;49m\u001b[38;5;124;43m'\u001b[39;49m\u001b[43m)\u001b[49m\n\u001b[1;32m      3\u001b[0m second_bar_buttons \u001b[38;5;241m=\u001b[39m new_driver\u001b[38;5;241m.\u001b[39mfind_elements(By\u001b[38;5;241m.\u001b[39mCSS_SELECTOR, \u001b[38;5;124m'\u001b[39m\u001b[38;5;124mdiv.ovm-PseudoClassificationBarButton_Text\u001b[39m\u001b[38;5;124m'\u001b[39m)\n\u001b[1;32m      4\u001b[0m \u001b[38;5;28;01mfor\u001b[39;00m i \u001b[38;5;129;01min\u001b[39;00m first_bar_buttons:\n",
      "File \u001b[0;32m~/data_science/web_scraping/ws_venv/lib/python3.8/site-packages/selenium/webdriver/remote/webdriver.py:855\u001b[0m, in \u001b[0;36mWebDriver.find_element\u001b[0;34m(self, by, value)\u001b[0m\n\u001b[1;32m    852\u001b[0m     by \u001b[38;5;241m=\u001b[39m By\u001b[38;5;241m.\u001b[39mCSS_SELECTOR\n\u001b[1;32m    853\u001b[0m     value \u001b[38;5;241m=\u001b[39m \u001b[38;5;124m'\u001b[39m\u001b[38;5;124m[name=\u001b[39m\u001b[38;5;124m\"\u001b[39m\u001b[38;5;132;01m%s\u001b[39;00m\u001b[38;5;124m\"\u001b[39m\u001b[38;5;124m]\u001b[39m\u001b[38;5;124m'\u001b[39m \u001b[38;5;241m%\u001b[39m value\n\u001b[0;32m--> 855\u001b[0m \u001b[38;5;28;01mreturn\u001b[39;00m \u001b[38;5;28;43mself\u001b[39;49m\u001b[38;5;241;43m.\u001b[39;49m\u001b[43mexecute\u001b[49m\u001b[43m(\u001b[49m\u001b[43mCommand\u001b[49m\u001b[38;5;241;43m.\u001b[39;49m\u001b[43mFIND_ELEMENT\u001b[49m\u001b[43m,\u001b[49m\u001b[43m \u001b[49m\u001b[43m{\u001b[49m\n\u001b[1;32m    856\u001b[0m \u001b[43m    \u001b[49m\u001b[38;5;124;43m'\u001b[39;49m\u001b[38;5;124;43musing\u001b[39;49m\u001b[38;5;124;43m'\u001b[39;49m\u001b[43m:\u001b[49m\u001b[43m \u001b[49m\u001b[43mby\u001b[49m\u001b[43m,\u001b[49m\n\u001b[1;32m    857\u001b[0m \u001b[43m    \u001b[49m\u001b[38;5;124;43m'\u001b[39;49m\u001b[38;5;124;43mvalue\u001b[39;49m\u001b[38;5;124;43m'\u001b[39;49m\u001b[43m:\u001b[49m\u001b[43m \u001b[49m\u001b[43mvalue\u001b[49m\u001b[43m}\u001b[49m\u001b[43m)\u001b[49m[\u001b[38;5;124m'\u001b[39m\u001b[38;5;124mvalue\u001b[39m\u001b[38;5;124m'\u001b[39m]\n",
      "File \u001b[0;32m~/data_science/web_scraping/ws_venv/lib/python3.8/site-packages/selenium/webdriver/remote/webdriver.py:428\u001b[0m, in \u001b[0;36mWebDriver.execute\u001b[0;34m(self, driver_command, params)\u001b[0m\n\u001b[1;32m    426\u001b[0m response \u001b[38;5;241m=\u001b[39m \u001b[38;5;28mself\u001b[39m\u001b[38;5;241m.\u001b[39mcommand_executor\u001b[38;5;241m.\u001b[39mexecute(driver_command, params)\n\u001b[1;32m    427\u001b[0m \u001b[38;5;28;01mif\u001b[39;00m response:\n\u001b[0;32m--> 428\u001b[0m     \u001b[38;5;28;43mself\u001b[39;49m\u001b[38;5;241;43m.\u001b[39;49m\u001b[43merror_handler\u001b[49m\u001b[38;5;241;43m.\u001b[39;49m\u001b[43mcheck_response\u001b[49m\u001b[43m(\u001b[49m\u001b[43mresponse\u001b[49m\u001b[43m)\u001b[49m\n\u001b[1;32m    429\u001b[0m     response[\u001b[38;5;124m'\u001b[39m\u001b[38;5;124mvalue\u001b[39m\u001b[38;5;124m'\u001b[39m] \u001b[38;5;241m=\u001b[39m \u001b[38;5;28mself\u001b[39m\u001b[38;5;241m.\u001b[39m_unwrap_value(\n\u001b[1;32m    430\u001b[0m         response\u001b[38;5;241m.\u001b[39mget(\u001b[38;5;124m'\u001b[39m\u001b[38;5;124mvalue\u001b[39m\u001b[38;5;124m'\u001b[39m, \u001b[38;5;28;01mNone\u001b[39;00m))\n\u001b[1;32m    431\u001b[0m     \u001b[38;5;28;01mreturn\u001b[39;00m response\n",
      "File \u001b[0;32m~/data_science/web_scraping/ws_venv/lib/python3.8/site-packages/selenium/webdriver/remote/errorhandler.py:243\u001b[0m, in \u001b[0;36mErrorHandler.check_response\u001b[0;34m(self, response)\u001b[0m\n\u001b[1;32m    241\u001b[0m         alert_text \u001b[38;5;241m=\u001b[39m value[\u001b[38;5;124m'\u001b[39m\u001b[38;5;124malert\u001b[39m\u001b[38;5;124m'\u001b[39m]\u001b[38;5;241m.\u001b[39mget(\u001b[38;5;124m'\u001b[39m\u001b[38;5;124mtext\u001b[39m\u001b[38;5;124m'\u001b[39m)\n\u001b[1;32m    242\u001b[0m     \u001b[38;5;28;01mraise\u001b[39;00m exception_class(message, screen, stacktrace, alert_text)  \u001b[38;5;66;03m# type: ignore[call-arg]  # mypy is not smart enough here\u001b[39;00m\n\u001b[0;32m--> 243\u001b[0m \u001b[38;5;28;01mraise\u001b[39;00m exception_class(message, screen, stacktrace)\n",
      "\u001b[0;31mNoSuchElementException\u001b[0m: Message: no such element: Unable to locate element: {\"method\":\"css selector\",\"selector\":\"div.ClassificationBar_RightButton\"}\n  (Session info: chrome=106.0.5249.103)\nStacktrace:\n0   ba67212ef882649f_chromedriver       0x000000010d9ed598 ba67212ef882649f_chromedriver + 4404632\n1   ba67212ef882649f_chromedriver       0x000000010d974fa3 ba67212ef882649f_chromedriver + 3911587\n2   ba67212ef882649f_chromedriver       0x000000010d621e6a ba67212ef882649f_chromedriver + 425578\n3   ba67212ef882649f_chromedriver       0x000000010d659c91 ba67212ef882649f_chromedriver + 654481\n4   ba67212ef882649f_chromedriver       0x000000010d659e91 ba67212ef882649f_chromedriver + 654993\n5   ba67212ef882649f_chromedriver       0x000000010d691274 ba67212ef882649f_chromedriver + 881268\n6   ba67212ef882649f_chromedriver       0x000000010d677dcd ba67212ef882649f_chromedriver + 777677\n7   ba67212ef882649f_chromedriver       0x000000010d68ef79 ba67212ef882649f_chromedriver + 872313\n8   ba67212ef882649f_chromedriver       0x000000010d677bd3 ba67212ef882649f_chromedriver + 777171\n9   ba67212ef882649f_chromedriver       0x000000010d64cced ba67212ef882649f_chromedriver + 601325\n10  ba67212ef882649f_chromedriver       0x000000010d64de51 ba67212ef882649f_chromedriver + 605777\n11  ba67212ef882649f_chromedriver       0x000000010d9bd0ce ba67212ef882649f_chromedriver + 4206798\n12  ba67212ef882649f_chromedriver       0x000000010d9c1797 ba67212ef882649f_chromedriver + 4224919\n13  ba67212ef882649f_chromedriver       0x000000010d9c8a4f ba67212ef882649f_chromedriver + 4254287\n14  ba67212ef882649f_chromedriver       0x000000010d9c24da ba67212ef882649f_chromedriver + 4228314\n15  ba67212ef882649f_chromedriver       0x000000010d99b23f ba67212ef882649f_chromedriver + 4067903\n16  ba67212ef882649f_chromedriver       0x000000010d9df6a8 ba67212ef882649f_chromedriver + 4347560\n17  ba67212ef882649f_chromedriver       0x000000010d9df816 ba67212ef882649f_chromedriver + 4347926\n18  ba67212ef882649f_chromedriver       0x000000010d9f48fe ba67212ef882649f_chromedriver + 4434174\n19  libsystem_pthread.dylib             0x00007ff81dc5e4e1 _pthread_start + 125\n20  libsystem_pthread.dylib             0x00007ff81dc59f6b thread_start + 15\n"
     ]
    }
   ],
   "source": [
    "\n",
    "\n",
    "first_bar_buttons = new_driver.find_elements(By.CSS_SELECTOR, 'div.ovm-ClassificationBarButton_Text')\n",
    "\n",
    "#find the element to hover over\n",
    "\n",
    "right_button = new_driver.find_element(By.CSS_SELECTOR, 'div.ClassificationBar_RightButton')\n",
    "second_bar_buttons = new_driver.find_elements(By.CSS_SELECTOR, 'div.ovm-PseudoClassificationBarButton_Text')\n",
    "for i in first_bar_buttons:\n",
    "    print(i.text)\n",
    "\n",
    "for j in second_bar_buttons:\n",
    "    print(j.text)"
   ]
  },
  {
   "cell_type": "code",
   "execution_count": 21,
   "id": "6ceacfbe",
   "metadata": {},
   "outputs": [],
   "source": [
    "new_driver.quit()"
   ]
  },
  {
   "cell_type": "code",
   "execution_count": null,
   "id": "ec2fdb75",
   "metadata": {},
   "outputs": [],
   "source": []
  }
 ],
 "metadata": {
  "kernelspec": {
   "display_name": "Python 3 (ipykernel)",
   "language": "python",
   "name": "python3"
  },
  "language_info": {
   "codemirror_mode": {
    "name": "ipython",
    "version": 3
   },
   "file_extension": ".py",
   "mimetype": "text/x-python",
   "name": "python",
   "nbconvert_exporter": "python",
   "pygments_lexer": "ipython3",
   "version": "3.8.9"
  }
 },
 "nbformat": 4,
 "nbformat_minor": 5
}
